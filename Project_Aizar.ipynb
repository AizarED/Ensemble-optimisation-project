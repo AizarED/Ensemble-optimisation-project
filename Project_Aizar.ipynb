{
 "cells": [
  {
   "cell_type": "markdown",
   "metadata": {
    "deletable": true,
    "editable": true
   },
   "source": [
    "#  __Machine Learning Project__\n",
    "## Ensembles\n",
    "The purpose of this project is to use all the Machine Learning techniques learn throught the first part of the AiCore course. Among the techniques used will be: \n",
    "The goal of this project, you should have built an entire pipeline to systematically evaluate and compare different ensembles. It should allow us to find a high performing ensembles and their relevant hyperparameters.\n"
   ]
  },
  {
   "cell_type": "markdown",
   "metadata": {
    "deletable": true,
    "editable": true
   },
   "source": [
    "## Section 1. Get the wine dataset\n",
    "This section will focus on 2 main points: \n",
    "- **Description**: Characteristics of the features of our data set, suspicions we have about it\n",
    "- **Loading**: Uploading our datasets and prepare them in the format of input data (X) and labels (Y).\n",
    "\n",
    "As a working file we have a csv file containing the features of different kinds of wine with a label for the quality that ranges from 3 to 8. \n",
    "### Data collection\n",
    "Here we will be uploading the main file (winequality-red.csv)  and examine the first 10 rows to have an idea what we are dealing with, later on we will load the respective files for train and test datasets: \n",
    "(Help markups from [here](https://medium.com/ibm-data-science-experience/markdown-for-jupyter-notebooks-cheatsheet-386c05aeebed) ) "
   ]
  },
  {
   "cell_type": "code",
   "execution_count": 2,
   "metadata": {
    "collapsed": false,
    "deletable": true,
    "editable": true,
    "scrolled": false
   },
   "outputs": [
    {
     "data": {
      "text/html": [
       "<div>\n",
       "<style scoped>\n",
       "    .dataframe tbody tr th:only-of-type {\n",
       "        vertical-align: middle;\n",
       "    }\n",
       "\n",
       "    .dataframe tbody tr th {\n",
       "        vertical-align: top;\n",
       "    }\n",
       "\n",
       "    .dataframe thead th {\n",
       "        text-align: right;\n",
       "    }\n",
       "</style>\n",
       "<table border=\"1\" class=\"dataframe\">\n",
       "  <thead>\n",
       "    <tr style=\"text-align: right;\">\n",
       "      <th></th>\n",
       "      <th>fixed acidity</th>\n",
       "      <th>volatile acidity</th>\n",
       "      <th>citric acid</th>\n",
       "      <th>residual sugar</th>\n",
       "      <th>chlorides</th>\n",
       "      <th>free sulfur dioxide</th>\n",
       "      <th>total sulfur dioxide</th>\n",
       "      <th>density</th>\n",
       "      <th>pH</th>\n",
       "      <th>sulphates</th>\n",
       "      <th>alcohol</th>\n",
       "      <th>quality</th>\n",
       "    </tr>\n",
       "  </thead>\n",
       "  <tbody>\n",
       "    <tr>\n",
       "      <th>0</th>\n",
       "      <td>7.4</td>\n",
       "      <td>0.70</td>\n",
       "      <td>0.00</td>\n",
       "      <td>1.9</td>\n",
       "      <td>0.076</td>\n",
       "      <td>11.0</td>\n",
       "      <td>34.0</td>\n",
       "      <td>0.9978</td>\n",
       "      <td>3.51</td>\n",
       "      <td>0.56</td>\n",
       "      <td>9.4</td>\n",
       "      <td>5</td>\n",
       "    </tr>\n",
       "    <tr>\n",
       "      <th>1</th>\n",
       "      <td>7.8</td>\n",
       "      <td>0.88</td>\n",
       "      <td>0.00</td>\n",
       "      <td>2.6</td>\n",
       "      <td>0.098</td>\n",
       "      <td>25.0</td>\n",
       "      <td>67.0</td>\n",
       "      <td>0.9968</td>\n",
       "      <td>3.20</td>\n",
       "      <td>0.68</td>\n",
       "      <td>9.8</td>\n",
       "      <td>5</td>\n",
       "    </tr>\n",
       "    <tr>\n",
       "      <th>2</th>\n",
       "      <td>7.8</td>\n",
       "      <td>0.76</td>\n",
       "      <td>0.04</td>\n",
       "      <td>2.3</td>\n",
       "      <td>0.092</td>\n",
       "      <td>15.0</td>\n",
       "      <td>54.0</td>\n",
       "      <td>0.9970</td>\n",
       "      <td>3.26</td>\n",
       "      <td>0.65</td>\n",
       "      <td>9.8</td>\n",
       "      <td>5</td>\n",
       "    </tr>\n",
       "    <tr>\n",
       "      <th>3</th>\n",
       "      <td>11.2</td>\n",
       "      <td>0.28</td>\n",
       "      <td>0.56</td>\n",
       "      <td>1.9</td>\n",
       "      <td>0.075</td>\n",
       "      <td>17.0</td>\n",
       "      <td>60.0</td>\n",
       "      <td>0.9980</td>\n",
       "      <td>3.16</td>\n",
       "      <td>0.58</td>\n",
       "      <td>9.8</td>\n",
       "      <td>6</td>\n",
       "    </tr>\n",
       "    <tr>\n",
       "      <th>4</th>\n",
       "      <td>7.4</td>\n",
       "      <td>0.70</td>\n",
       "      <td>0.00</td>\n",
       "      <td>1.9</td>\n",
       "      <td>0.076</td>\n",
       "      <td>11.0</td>\n",
       "      <td>34.0</td>\n",
       "      <td>0.9978</td>\n",
       "      <td>3.51</td>\n",
       "      <td>0.56</td>\n",
       "      <td>9.4</td>\n",
       "      <td>5</td>\n",
       "    </tr>\n",
       "    <tr>\n",
       "      <th>5</th>\n",
       "      <td>7.4</td>\n",
       "      <td>0.66</td>\n",
       "      <td>0.00</td>\n",
       "      <td>1.8</td>\n",
       "      <td>0.075</td>\n",
       "      <td>13.0</td>\n",
       "      <td>40.0</td>\n",
       "      <td>0.9978</td>\n",
       "      <td>3.51</td>\n",
       "      <td>0.56</td>\n",
       "      <td>9.4</td>\n",
       "      <td>5</td>\n",
       "    </tr>\n",
       "    <tr>\n",
       "      <th>6</th>\n",
       "      <td>7.9</td>\n",
       "      <td>0.60</td>\n",
       "      <td>0.06</td>\n",
       "      <td>1.6</td>\n",
       "      <td>0.069</td>\n",
       "      <td>15.0</td>\n",
       "      <td>59.0</td>\n",
       "      <td>0.9964</td>\n",
       "      <td>3.30</td>\n",
       "      <td>0.46</td>\n",
       "      <td>9.4</td>\n",
       "      <td>5</td>\n",
       "    </tr>\n",
       "    <tr>\n",
       "      <th>7</th>\n",
       "      <td>7.3</td>\n",
       "      <td>0.65</td>\n",
       "      <td>0.00</td>\n",
       "      <td>1.2</td>\n",
       "      <td>0.065</td>\n",
       "      <td>15.0</td>\n",
       "      <td>21.0</td>\n",
       "      <td>0.9946</td>\n",
       "      <td>3.39</td>\n",
       "      <td>0.47</td>\n",
       "      <td>10.0</td>\n",
       "      <td>7</td>\n",
       "    </tr>\n",
       "    <tr>\n",
       "      <th>8</th>\n",
       "      <td>7.8</td>\n",
       "      <td>0.58</td>\n",
       "      <td>0.02</td>\n",
       "      <td>2.0</td>\n",
       "      <td>0.073</td>\n",
       "      <td>9.0</td>\n",
       "      <td>18.0</td>\n",
       "      <td>0.9968</td>\n",
       "      <td>3.36</td>\n",
       "      <td>0.57</td>\n",
       "      <td>9.5</td>\n",
       "      <td>7</td>\n",
       "    </tr>\n",
       "    <tr>\n",
       "      <th>9</th>\n",
       "      <td>7.5</td>\n",
       "      <td>0.50</td>\n",
       "      <td>0.36</td>\n",
       "      <td>6.1</td>\n",
       "      <td>0.071</td>\n",
       "      <td>17.0</td>\n",
       "      <td>102.0</td>\n",
       "      <td>0.9978</td>\n",
       "      <td>3.35</td>\n",
       "      <td>0.80</td>\n",
       "      <td>10.5</td>\n",
       "      <td>5</td>\n",
       "    </tr>\n",
       "  </tbody>\n",
       "</table>\n",
       "</div>"
      ],
      "text/plain": [
       "   fixed acidity  volatile acidity  citric acid  residual sugar  chlorides  \\\n",
       "0            7.4              0.70         0.00             1.9      0.076   \n",
       "1            7.8              0.88         0.00             2.6      0.098   \n",
       "2            7.8              0.76         0.04             2.3      0.092   \n",
       "3           11.2              0.28         0.56             1.9      0.075   \n",
       "4            7.4              0.70         0.00             1.9      0.076   \n",
       "5            7.4              0.66         0.00             1.8      0.075   \n",
       "6            7.9              0.60         0.06             1.6      0.069   \n",
       "7            7.3              0.65         0.00             1.2      0.065   \n",
       "8            7.8              0.58         0.02             2.0      0.073   \n",
       "9            7.5              0.50         0.36             6.1      0.071   \n",
       "\n",
       "   free sulfur dioxide  total sulfur dioxide  density    pH  sulphates  \\\n",
       "0                 11.0                  34.0   0.9978  3.51       0.56   \n",
       "1                 25.0                  67.0   0.9968  3.20       0.68   \n",
       "2                 15.0                  54.0   0.9970  3.26       0.65   \n",
       "3                 17.0                  60.0   0.9980  3.16       0.58   \n",
       "4                 11.0                  34.0   0.9978  3.51       0.56   \n",
       "5                 13.0                  40.0   0.9978  3.51       0.56   \n",
       "6                 15.0                  59.0   0.9964  3.30       0.46   \n",
       "7                 15.0                  21.0   0.9946  3.39       0.47   \n",
       "8                  9.0                  18.0   0.9968  3.36       0.57   \n",
       "9                 17.0                 102.0   0.9978  3.35       0.80   \n",
       "\n",
       "   alcohol  quality  \n",
       "0      9.4        5  \n",
       "1      9.8        5  \n",
       "2      9.8        5  \n",
       "3      9.8        6  \n",
       "4      9.4        5  \n",
       "5      9.4        5  \n",
       "6      9.4        5  \n",
       "7     10.0        7  \n",
       "8      9.5        7  \n",
       "9     10.5        5  "
      ]
     },
     "execution_count": 2,
     "metadata": {},
     "output_type": "execute_result"
    }
   ],
   "source": [
    "import pandas as pd\n",
    "import numpy as np\n",
    "\n",
    "dataset = pd.read_csv('../DATA/winequality-red_.csv') # importing the data from the .csv file\n",
    "dataset.head(10) # print the first 10 rows\n",
    "#type(dataset)"
   ]
  },
  {
   "cell_type": "markdown",
   "metadata": {},
   "source": [
    "## Observations, initial thoughts,  and information researched about the features\n",
    "- **FIXED ACIDITY **: Most of the acids involved with wine are fixed acids with the notable exception of acetic acid [Source]( https://en.wikipedia.org/wiki/Acids_in_wine)\n",
    "- **VOLATILE ACIDITY **: Then this would amount to the acetic acid involved mostly found in vinegar, if that is the case, it may have negative effects on the quality of the wine. \n",
    "- **CITRIC ACID **: Often added to wines to increase acidity, complement a specific flavor or prevent ferric hazes [Source](https://wineserver.ucdavis.edu/industry-info/enology/methods-and-techniques/common-chemical-reagents/citric-acid)\n",
    "- **RESIDUAL SUGAR **: The sugar found after fermentation. \n",
    "- **CHLORIDES **: Amount of salt in the wine.\n",
    "- **FREE SULFUR DIOXIDE **: I assume this is will represent a fraction of **total sulfur dioxide**\n",
    "- **TOTAL SULFUR DIOXIDE **: Sulphur dioxide is added in the winemaking process to protect the wine from oxidation and bacterial spoilage. \n",
    "- **DENSITY **: Mass/volume \n",
    "- **PH **: Measures the acidity or alkalinity of a solution on a logarithmic scale that ranges from [0-14] on which 7 is neutral, lower values are more acid and higher values more alkaline/basic. [Source](https://www.google.com/search?client=firefox-b-d&q=ph+definition). I expect a correlation with the **sulfux dioxide** features.\n",
    "- **SULPHATES **: Related with sulfur dioxide molecules so I supposed there will be some sort of relationship with the **sulfur dioxide**.\n",
    "- **ALCOHOL **: Amount of alcohol in %\n",
    "- **QUALITY **: Our label, denoting the quality of the wine with values ranging from [3-8]\n",
    "\n",
    "\n",
    "***\n",
    "### Headers \n",
    "It will be useful later on to have a list of the headers, the names of the columns corresponding to each feature. "
   ]
  },
  {
   "cell_type": "code",
   "execution_count": 31,
   "metadata": {
    "collapsed": false
   },
   "outputs": [
    {
     "name": "stdout",
     "output_type": "stream",
     "text": [
      "['fixed acidity', 'volatile acidity', 'citric acid', 'residual sugar', 'chlorides', 'free sulfur dioxide', 'total sulfur dioxide', 'density', 'pH', 'sulphates', 'alcohol', 'quality']\n"
     ]
    }
   ],
   "source": [
    "headers = list(dataset.columns) #Get the headers of the dataset in an array\n",
    "#type(dataset.columns)\n",
    "print(headers)\n"
   ]
  },
  {
   "cell_type": "markdown",
   "metadata": {},
   "source": [
    "### Basic information from the data set\n",
    "We have 11 features in total as described above, with  1599 data points and no empty values, thus no need of data clenaning in that regard. This database has been divided in testing and training in a respective csv file to be uploaded.\n",
    "  <br> Finally we just present the range of values for each feature. This will come in handy in case we need to do feature normalization to improve our results. \n",
    "I note in particular \n",
    "- large range of variations:  **free sulfur dioxide** and **total sulfur dioxide**, [1-72] and [6-289] respectively\n",
    "- mean range variations: **fixed acidity**, **residual sugar**, **pH** and **alcohol**\n",
    "- small range variations: **volatile acidity**, **citric acid**, **chlorides** and **density**"
   ]
  },
  {
   "cell_type": "code",
   "execution_count": 38,
   "metadata": {
    "collapsed": false
   },
   "outputs": [
    {
     "name": "stdout",
     "output_type": "stream",
     "text": [
      "<class 'pandas.core.frame.DataFrame'>\n",
      "RangeIndex: 1599 entries, 0 to 1598\n",
      "Data columns (total 12 columns):\n",
      " #   Column                Non-Null Count  Dtype  \n",
      "---  ------                --------------  -----  \n",
      " 0   fixed acidity         1599 non-null   float64\n",
      " 1   volatile acidity      1599 non-null   float64\n",
      " 2   citric acid           1599 non-null   float64\n",
      " 3   residual sugar        1599 non-null   float64\n",
      " 4   chlorides             1599 non-null   float64\n",
      " 5   free sulfur dioxide   1599 non-null   float64\n",
      " 6   total sulfur dioxide  1599 non-null   float64\n",
      " 7   density               1599 non-null   float64\n",
      " 8   pH                    1599 non-null   float64\n",
      " 9   sulphates             1599 non-null   float64\n",
      " 10  alcohol               1599 non-null   float64\n",
      " 11  quality               1599 non-null   int64  \n",
      "dtypes: float64(11), int64(1)\n",
      "memory usage: 150.0 KB\n"
     ]
    }
   ],
   "source": [
    "dataset.info()"
   ]
  },
  {
   "cell_type": "code",
   "execution_count": 37,
   "metadata": {
    "collapsed": false
   },
   "outputs": [
    {
     "data": {
      "text/html": [
       "<div>\n",
       "<style scoped>\n",
       "    .dataframe tbody tr th:only-of-type {\n",
       "        vertical-align: middle;\n",
       "    }\n",
       "\n",
       "    .dataframe tbody tr th {\n",
       "        vertical-align: top;\n",
       "    }\n",
       "\n",
       "    .dataframe thead th {\n",
       "        text-align: right;\n",
       "    }\n",
       "</style>\n",
       "<table border=\"1\" class=\"dataframe\">\n",
       "  <thead>\n",
       "    <tr style=\"text-align: right;\">\n",
       "      <th></th>\n",
       "      <th>fixed acidity</th>\n",
       "      <th>volatile acidity</th>\n",
       "      <th>citric acid</th>\n",
       "      <th>residual sugar</th>\n",
       "      <th>chlorides</th>\n",
       "      <th>free sulfur dioxide</th>\n",
       "      <th>total sulfur dioxide</th>\n",
       "      <th>density</th>\n",
       "      <th>pH</th>\n",
       "      <th>sulphates</th>\n",
       "      <th>alcohol</th>\n",
       "      <th>quality</th>\n",
       "    </tr>\n",
       "  </thead>\n",
       "  <tbody>\n",
       "    <tr>\n",
       "      <th>min</th>\n",
       "      <td>4.6</td>\n",
       "      <td>0.12</td>\n",
       "      <td>0.0</td>\n",
       "      <td>0.9</td>\n",
       "      <td>0.012</td>\n",
       "      <td>1.0</td>\n",
       "      <td>6.0</td>\n",
       "      <td>0.99007</td>\n",
       "      <td>2.74</td>\n",
       "      <td>0.33</td>\n",
       "      <td>8.4</td>\n",
       "      <td>3.0</td>\n",
       "    </tr>\n",
       "    <tr>\n",
       "      <th>max</th>\n",
       "      <td>15.9</td>\n",
       "      <td>1.58</td>\n",
       "      <td>1.0</td>\n",
       "      <td>15.5</td>\n",
       "      <td>0.611</td>\n",
       "      <td>72.0</td>\n",
       "      <td>289.0</td>\n",
       "      <td>1.00369</td>\n",
       "      <td>4.01</td>\n",
       "      <td>2.00</td>\n",
       "      <td>14.9</td>\n",
       "      <td>8.0</td>\n",
       "    </tr>\n",
       "  </tbody>\n",
       "</table>\n",
       "</div>"
      ],
      "text/plain": [
       "     fixed acidity  volatile acidity  citric acid  residual sugar  chlorides  \\\n",
       "min            4.6              0.12          0.0             0.9      0.012   \n",
       "max           15.9              1.58          1.0            15.5      0.611   \n",
       "\n",
       "     free sulfur dioxide  total sulfur dioxide  density    pH  sulphates  \\\n",
       "min                  1.0                   6.0  0.99007  2.74       0.33   \n",
       "max                 72.0                 289.0  1.00369  4.01       2.00   \n",
       "\n",
       "     alcohol  quality  \n",
       "min      8.4      3.0  \n",
       "max     14.9      8.0  "
      ]
     },
     "execution_count": 37,
     "metadata": {},
     "output_type": "execute_result"
    }
   ],
   "source": [
    "dataset.describe().loc[[\"min\", \"max\"]]\n"
   ]
  },
  {
   "cell_type": "markdown",
   "metadata": {},
   "source": [
    "### Uploading the training and testing datasets: \n",
    "\n",
    "Our training data set has **1279 data points** and an undesired column called \"Unnamed:0\" that corresponds to the original indexes from the file: winequality-red_.csv we will drop that column later. Regarding to our test data set, it containts **710 datapoints** and also the extra column \"Unnamed:0\". \n",
    " <br> Note that: 710+1279=1989 which exceeds our 1599 entries from the original file: winequality-red_.csv.  I am just gonna assume that it was done so we have enough data to train and test. \n"
   ]
  },
  {
   "cell_type": "code",
   "execution_count": 46,
   "metadata": {
    "collapsed": false
   },
   "outputs": [],
   "source": [
    "train_dataset = pd.read_csv('./DATA/winequality-red-train.csv') # importing the data from the .csv file\n",
    "test_dataset = pd.read_csv('./DATA/winequality-red-test.csv')\n",
    "\n",
    "#train_dataset.info() # Our data set has 1279 data points and an undesired column called \"Unnamed:0\" \n",
    "#test_dataset.info() #Our test data set wiht 710 datapoints and an undesired column called \"Unnamed:0\". \n"
   ]
  },
  {
   "cell_type": "markdown",
   "metadata": {},
   "source": [
    " ### Datasets generator.\n",
    "Below we will create a function that will arrange our data in array format and will get rid of unnecesary columns. Note that the *except* command is just in case we use the dataset from (winequality-red_.csv) which doesn't contain the column: \"Unnamed:0\"\n",
    "<br> The function *separateXY* will "
   ]
  },
  {
   "cell_type": "code",
   "execution_count": 313,
   "metadata": {
    "collapsed": false
   },
   "outputs": [
    {
     "name": "stdout",
     "output_type": "stream",
     "text": [
      "Dimensions of X training: (1279, 11) \t Dimensions of Y training:  (1279,)\n",
      "Lenght of X: 1279 \t Length of Y 1279\n",
      "Dimensions of X test: (710, 11) \t Dimensions of Y test:  (710,)\n"
     ]
    }
   ],
   "source": [
    "from sklearn.model_selection import train_test_split\n",
    "\n",
    "#If creating a validation set, we use this to separate inputs X from labels Y from the shuffled data.\n",
    "def separateXY(full_data):\n",
    "    label_column=full_data.shape[1]-1  #index of the column where the labels are located\n",
    "    X=full_data[:,0:label_column]\n",
    "    Y=full_data[:,label_column]\n",
    "    return X, Y.astype(int)\n",
    "    \n",
    "#Function that generates our datasets for input features X and labels Y.\n",
    "def dataset_generator(dataset, validation = False, val_size = 0.20): \n",
    "    if validation==False: \n",
    "        try:\n",
    "            X = dataset.drop([\"Unnamed: 0\", \"quality\"], axis=1).to_numpy()  #drop extra columns and convert to array\n",
    "            Y = dataset[\"quality\"].to_numpy() #Convert quality dataset to array\n",
    "            return X,Y.astype(int)\n",
    "        except: \n",
    "            X = dataset.drop([ \"quality\"], axis=1).to_numpy()  #drop extra columns and convert to array\n",
    "            Y = dataset[\"quality\"].to_numpy()     #Convert quality dataset to array\n",
    "            return X,Y.astype(int)\n",
    "    else: \n",
    "        try:\n",
    "            X = dataset.drop([\"Unnamed: 0\"], axis=1).to_numpy()\n",
    "            train_data, val_data = train_test_split(X, test_size= val_size, shuffle=True) ## randomly split data into train and validation sets\n",
    "            X_train, Y_train = separateXY(train_data)\n",
    "            X_val, Y_val = separateXY(val_data)\n",
    "            return X_train, Y_train, X_val, Y_val\n",
    "        except:\n",
    "            X = dataset.to_numpy()\n",
    "            train_data, val_data = train_test_split(X, test_size= val_size, shuffle=True) ## randomly split data into train and validation sets\n",
    "            X_train, Y_train = separateXY(train_data)\n",
    "            X_val, Y_val = separateXY(val_data)\n",
    "            return X_train, Y_train, X_val, Y_val\n",
    "        \n",
    "#Creating datasets\n",
    "X,Y=dataset_generator(dataset)                            #original dataset\n",
    "X_training, Y_training =dataset_generator(train_dataset)  #training dataset\n",
    "X_test,Y_test=dataset_generator(test_dataset)             #testing dataset\n",
    "\n",
    "#Sanity check, for dimensions and lenght of our features and labels:\n",
    "print(\"Dimensions of X training:\", X_training.shape,\"\\t\", \"Dimensions of Y training: \", Y_training.shape)\n",
    "print(\"Lenght of X:\" , len(X_training),\"\\t\", \"Length of Y\" ,len(Y_training))\n",
    "print(\"Dimensions of X test:\", X_test.shape,\"\\t\", \"Dimensions of Y test: \", Y_test.shape)"
   ]
  },
  {
   "cell_type": "markdown",
   "metadata": {},
   "source": [
    "### Validation and Test datasets.\n",
    "Since our models will contain hyperparameters. We should subdivide our training set (X_training, Y_training) in train and validations sets, where we split our data into a 80:20 proportion. Note in our sanity check that the dimensions of our train and validations are correct and divided in the correct proportion."
   ]
  },
  {
   "cell_type": "code",
   "execution_count": 148,
   "metadata": {
    "collapsed": false
   },
   "outputs": [
    {
     "name": "stdout",
     "output_type": "stream",
     "text": [
      "Dimensions of X_train: (1023, 11) \t Dimensions of Y_train:  (1023,)\n",
      "Dimensions of X_val: (256, 11) \t Dimensions of Y_val:  (256,)\n"
     ]
    }
   ],
   "source": [
    "X_train, Y_train, X_val, Y_val = dataset_generator(train_dataset, validation=True)\n",
    "\n",
    "#Sanity check, for dimensions and lenghts of our trainig and validations sets:\n",
    "print(\"Dimensions of X_train:\", X_train.shape,\"\\t\", \"Dimensions of Y_train: \", Y_train.shape)\n",
    "print(\"Dimensions of X_val:\", X_val.shape,\"\\t\", \"Dimensions of Y_val: \", Y_val.shape)\n"
   ]
  },
  {
   "cell_type": "markdown",
   "metadata": {},
   "source": [
    "### Plotting the dataset features\n"
   ]
  },
  {
   "cell_type": "code",
   "execution_count": null,
   "metadata": {
    "collapsed": true
   },
   "outputs": [],
   "source": []
  },
  {
   "cell_type": "code",
   "execution_count": 340,
   "metadata": {
    "collapsed": false,
    "deletable": true,
    "editable": true,
    "tags": []
   },
   "outputs": [
    {
     "data": {
      "image/png": "[encoded data removed]",
      "text/plain": [
       "<Figure size 432x288 with 1 Axes>"
      ]
     },
     "metadata": {
      "needs_background": "light"
     },
     "output_type": "display_data"
    }
   ],
   "source": [
    "\n",
    "testX=dataset[[\"fixed acidity\",'volatile acidity']].to_numpy()\n",
    "testY=dataset['quality'].to_numpy()\n",
    "#testY\n",
    "import sys\n",
    "sys.path.append('..')\n",
    "from utils import show_data\n",
    "show_data(testX,testY)\n"
   ]
  },
  {
   "cell_type": "code",
   "execution_count": 339,
   "metadata": {
    "collapsed": false,
    "deletable": true,
    "editable": true,
    "tags": []
   },
   "outputs": [
    {
     "name": "stdout",
     "output_type": "stream",
     "text": [
      "(1023, 11)\n"
     ]
    },
    {
     "data": {
      "image/png": "[encoded data removed]",
      "text/plain": [
       "<Figure size 432x288 with 1 Axes>"
      ]
     },
     "metadata": {
      "needs_background": "light"
     },
     "output_type": "display_data"
    },
    {
     "name": "stdout",
     "output_type": "stream",
     "text": [
      "[(0, 'fixed acidity'), (1, 'volatile acidity'), (2, 'citric acid'), (3, 'residual sugar'), (4, 'chlorides'), (5, 'free sulfur dioxide'), (6, 'total sulfur dioxide'), (7, 'density'), (8, 'pH'), (9, 'sulphates'), (10, 'alcohol'), (11, 'quality')]\n"
     ]
    }
   ],
   "source": [
    "import sys\n",
    "sys.path.append('..')\n",
    "from utils import show_data\n",
    "\n",
    "'''Visualising pairs of features'''\n",
    "#Testing, selecting feature 0 and 8 to plot corresponding to fixed acidity and PH\n",
    "print(X_train.shape)\n",
    "features = X_train[:,[0,8]]                #Explore and visualise different pair of features.\n",
    "show_data(features,Y_train)\n",
    "#print(X[0:5,0,[10,11]])\n",
    "\n",
    "print(list(enumerate(headers)))     #Enlist all headers\n"
   ]
  },
  {
   "cell_type": "markdown",
   "metadata": {},
   "source": [
    "***"
   ]
  },
  {
   "cell_type": "markdown",
   "metadata": {},
   "source": [
    "## Section 2: Fit models to the wine dataset and test performance\n",
    "\n",
    "In this section we train our data with different models and evaluate their performace. We will be using *X_train* and *Y_train* as our input and labels dataset. As a reminder, *X_train* is a set with 1023 data points and 11 columns representing our features; similarly *Y_train*  is a column that also contains 1023 rows corresponding to the quality given to the wine. \n",
    "\n",
    "Our problems is a classification problem, where given a  the feature datapoint, our model should predict one of the six possible values of quality from the values: [3,4,...,8]\n"
   ]
  },
  {
   "cell_type": "code",
   "execution_count": 149,
   "metadata": {
    "collapsed": false
   },
   "outputs": [
    {
     "name": "stdout",
     "output_type": "stream",
     "text": [
      "Dimensions of X_train: (1023, 11) \t Dimensions of Y_train:  (1023,)\n"
     ]
    }
   ],
   "source": [
    "print(\"Dimensions of X_train:\", X_train.shape,\"\\t\", \"Dimensions of Y_train: \", Y_train.shape)\n"
   ]
  },
  {
   "cell_type": "markdown",
   "metadata": {},
   "source": [
    "## Model 1: K means clustering\n",
    "Considering the values of the Quality for the wine are [3,4,...,8], the number of possible classes to predict are 6. "
   ]
  },
  {
   "cell_type": "code",
   "execution_count": 315,
   "metadata": {
    "collapsed": false
   },
   "outputs": [
    {
     "name": "stdout",
     "output_type": "stream",
     "text": [
      "List of predictions: [0 5 4 ... 3 3 3]\n",
      "List of labels: [6 6 5 ... 5 5 6]\n",
      "Range of values for new labels: {0, 1, 2, 3, 4, 5}\n"
     ]
    }
   ],
   "source": [
    "#Model 1: K means clustering\n",
    "from sklearn.cluster import KMeans ## import kmeans model from sklearn\n",
    "from sklearn.preprocessing import scale\n",
    "#https://scikit-learn.org/stable/modules/generated/sklearn.cluster.KMeans.html\n",
    "\n",
    "kmeans = KMeans(n_clusters=6, n_init=10, init='k-means++') ## init k means with a given number of centroids\n",
    "kmeans.fit(scale(X_train), Y_train) ## fit\n",
    "predictions = kmeans.predict(scale(X_train)) ## make predictions\n",
    "print(\"List of predictions:\",predictions)\n",
    "print(\"List of labels:\",Y_train)\n",
    "print(\"Range of values for new labels:\",set(kmeans.labels_))"
   ]
  },
  {
   "cell_type": "markdown",
   "metadata": {},
   "source": [
    "The problem we have now is that our predicted labels run from [0,5] and we don't know which label corresponds to our original labels from [3,8] it can be 5! possibilities! Thus we selected the following metrics: "
   ]
  },
  {
   "cell_type": "markdown",
   "metadata": {},
   "source": [
    "### Completeness:  metric of a cluster labeling given a ground truth.\n",
    "A clustering result satisfies completeness if all the data points that are members of a given class are elements of the same cluster.     Score between 0.0 and 1.0. 1.0 stands for perfectly complete labeling. In other words, measurs if the datapoints belonging to a class (lets say quality=8) end up clustered together after running the model. \n",
    "\n",
    "\n",
    "\n",
    "### Homogeneity: metric of a cluster labeling given a ground truth.\n",
    "A clustering result satisfies homogeneity if all of its clusters contain only data points which are members of a single class.     Score between 0.0 and 1.0. 1.0 stands for perfectly homogeneous labeling\n",
    "\n",
    "\n",
    "\n",
    "### The V-measure:  Is the harmonic mean between homogeneity and completeness.     \n",
    "Score between 0.0 and 1.0. 1.0 stands for perfectly complete labeling\n"
   ]
  },
  {
   "cell_type": "code",
   "execution_count": 319,
   "metadata": {
    "collapsed": false
   },
   "outputs": [
    {
     "name": "stdout",
     "output_type": "stream",
     "text": [
      "Homogeneity: 0.108\n",
      "Completeness: 0.080\n",
      "V-measure: 0.092\n"
     ]
    }
   ],
   "source": [
    "from sklearn.metrics.cluster import completeness_score, homogeneity_score,v_measure_score\n",
    "\n",
    "print(\"Homogeneity: %0.3f\" % homogeneity_score(Y_train, predictions))\n",
    "print(\"Completeness: %0.3f\" % completeness_score(Y_train, predictions))\n",
    "print(\"V-measure: %0.3f\" % v_measure_score(Y_train, predictions))\n"
   ]
  },
  {
   "cell_type": "markdown",
   "metadata": {},
   "source": [
    "Evaluating our model with the test dataset:"
   ]
  },
  {
   "cell_type": "code",
   "execution_count": 329,
   "metadata": {
    "collapsed": false
   },
   "outputs": [
    {
     "name": "stdout",
     "output_type": "stream",
     "text": [
      "Homogeneity: 0.138\n",
      "Completeness: 0.102\n",
      "V-measure: 0.118\n"
     ]
    }
   ],
   "source": [
    "predictions_test = kmeans.predict(scale(X_test))\n",
    "predictions_test.shape\n",
    "Y_test.shape\n",
    "print(\"Homogeneity: %0.3f\" % homogeneity_score(Y_test, predictions_test))\n",
    "print(\"Completeness: %0.3f\" % completeness_score(Y_test, predictions_test))\n",
    "print(\"V-measure: %0.3f\" % v_measure_score(Y_test, predictions_test))"
   ]
  },
  {
   "cell_type": "markdown",
   "metadata": {},
   "source": [
    "So far the most we are getting is around 10% accuracy. We will keep exploring other methods. Note: we used .scale() method, on X_train to standarize our features giving them mean=0 and standar deviation =1.  ( before that our metrics where: Homogeneity: 0.054, Completeness: 0.044, V-measure: 0.049)\n"
   ]
  },
  {
   "cell_type": "code",
   "execution_count": 230,
   "metadata": {
    "collapsed": false
   },
   "outputs": [
    {
     "name": "stdout",
     "output_type": "stream",
     "text": [
      "mean: [0 0 0 0 0 0 0 0 0 0 0] standard deviation:  [1. 1. 1. 1. 1. 1. 1. 1. 1. 1. 1.]\n"
     ]
    }
   ],
   "source": [
    "#print(\"mean:\", scale(X_train).mean(axis=0).astype(int), \"standard deviation: \",scale(X_train).std(axis=0))"
   ]
  },
  {
   "cell_type": "markdown",
   "metadata": {},
   "source": [
    "In the following we just present a visualization of our predictions using Principal Component Analysis in order to be able to show them in 2 dimension. The source of this particular code is [here](https://scikit-learn.org/stable/auto_examples/cluster/plot_kmeans_digits.html#sphx-glr-auto-examples-cluster-plot-kmeans-digits-py)"
   ]
  },
  {
   "cell_type": "code",
   "execution_count": 233,
   "metadata": {
    "collapsed": false
   },
   "outputs": [
    {
     "data": {
      "image/png": "[encoded data removed]",
      "text/plain": [
       "<Figure size 432x288 with 1 Axes>"
      ]
     },
     "metadata": {},
     "output_type": "display_data"
    }
   ],
   "source": [
    "# #############################################################################\n",
    "# Visualize the results on PCA-reduced data\n",
    "from sklearn.decomposition import PCA\n",
    "import matplotlib.pyplot as plt\n",
    "reduced_data = PCA(n_components=2).fit_transform(scale(X_train))\n",
    "kmeans = KMeans(init='k-means++', n_clusters=6, n_init=10)\n",
    "kmeans.fit(reduced_data)\n",
    "\n",
    "# Step size of the mesh. Decrease to increase the quality of the VQ.\n",
    "h = .02     # point in the mesh [x_min, x_max]x[y_min, y_max].\n",
    "\n",
    "# Plot the decision boundary. For that, we will assign a color to each\n",
    "x_min, x_max = reduced_data[:, 0].min() - 1, reduced_data[:, 0].max() + 1\n",
    "y_min, y_max = reduced_data[:, 1].min() - 1, reduced_data[:, 1].max() + 1\n",
    "xx, yy = np.meshgrid(np.arange(x_min, x_max, h), np.arange(y_min, y_max, h))\n",
    "\n",
    "# Obtain labels for each point in mesh. Use last trained model.\n",
    "Z = kmeans.predict(np.c_[xx.ravel(), yy.ravel()])\n",
    "\n",
    "# Put the result into a color plot\n",
    "Z = Z.reshape(xx.shape)\n",
    "plt.figure(1)\n",
    "plt.clf()\n",
    "plt.imshow(Z, interpolation='nearest',\n",
    "           extent=(xx.min(), xx.max(), yy.min(), yy.max()),\n",
    "           cmap=plt.cm.Paired,\n",
    "           aspect='auto', origin='lower')\n",
    "\n",
    "plt.plot(reduced_data[:, 0], reduced_data[:, 1], 'k.', markersize=2)\n",
    "# Plot the centroids as a white X\n",
    "centroids = kmeans.cluster_centers_\n",
    "plt.scatter(centroids[:, 0], centroids[:, 1],\n",
    "            marker='x', s=169, linewidths=3,\n",
    "            color='w', zorder=10)\n",
    "plt.title('K-means clustering on the digits dataset (PCA-reduced data)\\n'\n",
    "          'Centroids are marked with white cross')\n",
    "plt.xlim(x_min, x_max)\n",
    "plt.ylim(y_min, y_max)\n",
    "plt.xticks(())\n",
    "plt.yticks(())\n",
    "plt.show()"
   ]
  },
  {
   "cell_type": "markdown",
   "metadata": {},
   "source": [
    "## Model 2: Classification trees\n"
   ]
  },
  {
   "cell_type": "code",
   "execution_count": 308,
   "metadata": {
    "collapsed": false,
    "deletable": true,
    "editable": true,
    "tags": []
   },
   "outputs": [
    {
     "name": "stdout",
     "output_type": "stream",
     "text": [
      "54.54545454545455\n",
      "55.71847507331378\n",
      "60.80156402737048\n",
      "62.365591397849464\n",
      "69.20821114369501\n",
      "75.46432062561095\n",
      "80.64516129032258\n",
      "83.57771260997067\n",
      "87.29227761485826\n",
      "90.71358748778104\n",
      "93.25513196480938\n",
      "94.42815249266862\n",
      "96.08993157380255\n",
      "97.0674486803519\n",
      "98.04496578690127\n",
      "98.9247311827957\n",
      "99.21798631476051\n",
      "99.60899315738025\n",
      "99.60899315738025\n",
      "99.90224828934507\n",
      "100.0\n",
      "100.0\n",
      "100.0\n",
      "100.0\n"
     ]
    },
    {
     "data": {
      "text/plain": [
       "'Conclusion: Need to avoid overfitting: tune hyperparameter'"
      ]
     },
     "execution_count": 308,
     "metadata": {},
     "output_type": "execute_result"
    },
    {
     "data": {
      "image/png": "[encoded data removed]",
      "text/plain": [
       "<Figure size 432x288 with 1 Axes>"
      ]
     },
     "metadata": {
      "needs_background": "light"
     },
     "output_type": "display_data"
    }
   ],
   "source": [
    "#Model 2: Classification trees\n",
    "import sklearn.tree\n",
    "from utils import show_data, visualise_predictions, colors, calc_accuracy\n",
    "import matplotlib.pyplot as plt\n",
    "tree_levels=range(1,25) #testing diff tree levels\n",
    "accuracy_list = [] #zeros(range(1,12))\n",
    "for max_depth in tree_levels:\n",
    "    classificationTree = sklearn.tree.DecisionTreeClassifier(max_depth=max_depth)\n",
    "    classificationTree.fit(X_train, Y_train)\n",
    "    classificationTree.predict(X_train)\n",
    "\n",
    "\n",
    "    correct_predictions_tree = np.ones(len(Y_train))\n",
    "    correct_predictions_tree = correct_predictions_tree[Y_train==classificationTree.predict(X_train)]\n",
    "    accuracy_tree = 100*sum(correct_predictions_tree)/len(Y_train)\n",
    "    print(accuracy_tree)\n",
    "    accuracy_list.append(accuracy_tree)\n",
    "plt.scatter(tree_levels,accuracy_list, label=\"Accuracy [%]\")\n",
    "plt.xlabel(\"Tree levels depth\")\n",
    "#plt.ylabel(\"Accuracy\")\n",
    "plt.legend(loc='upper left')\n",
    "plt.show\n",
    "#print(\"Correct predictions for last tree:\", 100*sum(correct_predictions_tree)/len(Y_train))\n",
    "\n",
    "\n",
    "'''Conclusion: Need to avoid overfitting: tune hyperparameter'''\n"
   ]
  },
  {
   "cell_type": "markdown",
   "metadata": {},
   "source": [
    "Evaluation:Selecting a max_depth of 12. It shows we need to adjust the max_depth and optimize over evaluation set X_eval"
   ]
  },
  {
   "cell_type": "code",
   "execution_count": 333,
   "metadata": {
    "collapsed": false,
    "deletable": true,
    "editable": true
   },
   "outputs": [
    {
     "data": {
      "text/plain": [
       "0.5535211267605634"
      ]
     },
     "execution_count": 333,
     "metadata": {},
     "output_type": "execute_result"
    }
   ],
   "source": [
    "\n",
    "classificationTree = sklearn.tree.DecisionTreeClassifier(max_depth=12)\n",
    "classificationTree.fit(X_train, Y_train)\n",
    "classificationTree.predict(X_test)\n",
    "\n",
    "classificationTree.score(X_test, Y_test)"
   ]
  },
  {
   "cell_type": "markdown",
   "metadata": {},
   "source": [
    "## Model 3: DBSCAN\n",
    "We need to play with the distances (eps) and min_samples but doesn't look like it will be too accurate even with the features starndised.  The next step will be to use some optimization process to find the best hiperparameters. \n"
   ]
  },
  {
   "cell_type": "code",
   "execution_count": 280,
   "metadata": {
    "collapsed": false,
    "deletable": true,
    "editable": true,
    "tags": []
   },
   "outputs": [
    {
     "name": "stdout",
     "output_type": "stream",
     "text": [
      "Estimated number of clusters: 5\n",
      "Estimated number of noise points: 292\n",
      "Homogeneity: 0.026\n",
      "Completeness: 0.043\n",
      "V-measure: 0.033\n"
     ]
    }
   ],
   "source": [
    "#Model 3 DBSCAN\n",
    "import sklearn.cluster\n",
    "#https://scikit-learn.org/stable/modules/generated/sklearn.cluster.DBSCAN.html\n",
    "#https://scikit-learn.org/stable/auto_examples/cluster/plot_dbscan.html#sphx-glr-auto-examples-cluster-plot-dbscan-py\n",
    "\n",
    "DBSCAN_wines = sklearn.cluster.DBSCAN(eps=1.5,  min_samples=5).fit(scale(X_train))\n",
    "labels = DBSCAN_wines.labels_\n",
    "#labels2 = labels[labels!=-1] #Eliminate predictions deemed as noise\n",
    "#print(labels2, len(labels2)) #predicted labels\n",
    "\n",
    "\n",
    "# Number of clusters in labels, ignoring noise if present.\n",
    "n_clusters_ = len(set(labels)) - (1 if -1 in labels else 0)\n",
    "n_noise_ = list(labels).count(-1)\n",
    "\n",
    "print('Estimated number of clusters: %d' % n_clusters_)\n",
    "print('Estimated number of noise points: %d' % n_noise_)\n",
    "print(\"Homogeneity: %0.3f\" % homogeneity_score(Y_train, labels))\n",
    "print(\"Completeness: %0.3f\" % completeness_score(Y_train, labels))\n",
    "print(\"V-measure: %0.3f\" % v_measure_score(Y_train, labels))"
   ]
  },
  {
   "cell_type": "markdown",
   "metadata": {},
   "source": [
    "## Model 4: Random Forest\n"
   ]
  },
  {
   "cell_type": "code",
   "execution_count": 334,
   "metadata": {
    "collapsed": false,
    "deletable": true,
    "editable": true
   },
   "outputs": [
    {
     "name": "stdout",
     "output_type": "stream",
     "text": [
      "Score:  0.6338028169014085\n"
     ]
    }
   ],
   "source": [
    "#Model 4 Random Forest\n",
    "from sklearn.ensemble import RandomForestClassifier\n",
    "from utils import show_data, visualise_predictions, colors, calc_accuracy\n",
    "\n",
    "\n",
    "randomForest = RandomForestClassifier(n_estimators=90, max_depth=7) # init random forest , max_samples=1500\n",
    "randomForest.fit(scale(X_train), Y_train) # fit random forest of decision trees\n",
    "\n",
    "score_RF=randomForest.score(scale(X_test), Y_test) # use the model's score method to compute it's accuracy\n",
    "\n",
    "print(\"Score: \", score_RF)"
   ]
  },
  {
   "cell_type": "markdown",
   "metadata": {},
   "source": [
    "## Model 5 Adaboost\n"
   ]
  },
  {
   "cell_type": "code",
   "execution_count": 335,
   "metadata": {
    "collapsed": false,
    "deletable": true,
    "editable": true
   },
   "outputs": [
    {
     "name": "stdout",
     "output_type": "stream",
     "text": [
      "score: 0.5450704225352113\n"
     ]
    }
   ],
   "source": [
    "#Model 5 Adaboost\n",
    "#https://scikit-learn.org/stable/auto_examples/ensemble/plot_adaboost_multiclass.html\n",
    "import sklearn.ensemble\n",
    "from utils import show_data, visualise_predictions, colors, calc_accuracy\n",
    "\n",
    "adaBoost = sklearn.ensemble.AdaBoostClassifier(sklearn.tree.DecisionTreeClassifier(max_depth=4),n_estimators=90)\n",
    "adaBoost.fit(scale(X_train), Y_train)\n",
    "predictions = adaBoost.predict(scale(X_train))\n",
    "print(\"score:\", adaBoost.score(scale(X_test), Y_test))\n"
   ]
  },
  {
   "cell_type": "markdown",
   "metadata": {},
   "source": [
    "## Model 6 KNN \n"
   ]
  },
  {
   "cell_type": "code",
   "execution_count": 336,
   "metadata": {
    "collapsed": false
   },
   "outputs": [
    {
     "name": "stdout",
     "output_type": "stream",
     "text": [
      "score: 0.571830985915493\n"
     ]
    }
   ],
   "source": [
    "#Model 6 KNN\n",
    "# https://scikit-learn.org/stable/modules/generated/sklearn.neighbors.KNeighborsClassifier.html#sklearn.neighbors.KNeighborsClassifier.score\n",
    "from sklearn.neighbors import KNeighborsClassifier\n",
    "neigh = KNeighborsClassifier(n_neighbors=2)\n",
    "neigh.fit(scale(X_train), Y_train)\n",
    "\n",
    "#print(neigh.predict(X_train))\n",
    "print(\"score:\", neigh.score(scale(X_test), Y_test))"
   ]
  },
  {
   "cell_type": "code",
   "execution_count": null,
   "metadata": {
    "collapsed": true,
    "deletable": true,
    "editable": true
   },
   "outputs": [],
   "source": [
    "#Model 7 Xgboost (Incomplete!)\n",
    "#https://xgboost.readthedocs.io/en/latest/python/python_intro.html#data-interface\n",
    "#https://xgboost.readthedocs.io/en/latest/tutorials/model.html\n",
    "import xgboost as xgb\n",
    "#param={'max_depth':2, 'eta':1, 'objective':'binary:logistic'}\n",
    "#dtrain=X_train\n",
    "#num_round = 2\n",
    "#bst = xgb.train(param, dtrain, num_round)\n",
    "# make prediction\n",
    "#preds = bst.predict(dtrain)\n",
    "# this is prediction\n",
    "#preds = bst.predict(dtrain)\n",
    "#labels = dtrain.get_label()"
   ]
  },
  {
   "cell_type": "markdown",
   "metadata": {},
   "source": [
    "\n",
    "## Section 3: Improve your performance by ensembling some  models\n",
    "1. Combine the results of more than one model\n",
    "2. Evaluate the performance of the ensemble\n",
    "\n",
    "## Part 4: Write an algorithm to find the best combination of models and hyperparameters.\n",
    "There are an infinite number of ways that you could combine different models with different hyperparameters, but some will perform better than others. \n",
    "1. List the different parameters which you test over, as well as the ranges which you test\n",
    "2. Describe the search procedure which your algorithm implements\n",
    "\n",
    "## Part 5: Present your results\n",
    "Obviously, we need to assess your work. The final part of the project requires you to attempt to summarise your work. It should be clear how we could replicate the results by implementing exactly the same ensemble (models and hyperparameters).\n",
    "\n",
    "1. Please try to communicate and display your results with any graphs or charts. \n",
    "2. If you have any insights into why certain ensembles or models perform better of worse than others, and would like to write a paragraph to explain this, we'd love to read it! \n",
    "3. Please also write a summary paragraph that describes the best permutation that you found.\n",
    "\n",
    "## Part 6: \n",
    "A stakeholder asks you which features most affect the response variable (output).\n",
    "Describe how you would organise a test to determine this."
   ]
  },
  {
   "cell_type": "code",
   "execution_count": null,
   "metadata": {
    "collapsed": true
   },
   "outputs": [],
   "source": []
  }
 ],
 "metadata": {
  "kernelspec": {
   "display_name": "Python 3",
   "language": "python",
   "name": "python3"
  },
  "language_info": {
   "codemirror_mode": {
    "name": "ipython",
    "version": 3
   },
   "file_extension": ".py",
   "mimetype": "text/x-python",
   "name": "python",
   "nbconvert_exporter": "python",
   "pygments_lexer": "ipython3",
   "version": "3.8.2"
  }
 },
 "nbformat": 4,
 "nbformat_minor": 2
}
